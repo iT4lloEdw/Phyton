{
  "nbformat": 4,
  "nbformat_minor": 0,
  "metadata": {
    "colab": {
      "provenance": [],
      "authorship_tag": "ABX9TyOk4gwwmWE4cXB0Uzdjqvst",
      "include_colab_link": true
    },
    "kernelspec": {
      "name": "python3",
      "display_name": "Python 3"
    },
    "language_info": {
      "name": "python"
    }
  },
  "cells": [
    {
      "cell_type": "markdown",
      "metadata": {
        "id": "view-in-github",
        "colab_type": "text"
      },
      "source": [
        "<a href=\"https://colab.research.google.com/github/iT4lloEdw/Phyton/blob/main/Aula01_06.ipynb\" target=\"_parent\"><img src=\"https://colab.research.google.com/assets/colab-badge.svg\" alt=\"Open In Colab\"/></a>"
      ]
    },
    {
      "cell_type": "code",
      "source": [
        "#Em um concurso foram aplicadas duas provas A e B, das quais o resultado foi o seguinte:\n",
        "provaA = {'Andre': 8.5, 'Ana': 7.0, 'Chico': 6.5, 'Nubia': 10, 'Luana': 8}\n",
        "provaB = {'Julio': 5.5, 'Aristides': 6.0, 'Sebastiana': 9.5, 'Camila': 10, 'João': 6}\n",
        "A partir disso, siga o roteiro:\n",
        "A Crie num novo dicionário resultado_final, o qual é a junção dos dois dicionários provaA e provaB\n",
        "Ordene o dicionário da maior nota para a menor nota\n",
        "O Gerente da comissão do concurso precisa de uma lista apenas com os nomes dos candidatos.\n",
        "O analista de dados precisa de uma lista apenas com as notas das provas.\n",
        "Querem disponibilizar um recurso, no qual se insere um nome de candidato e retorna a sua nota. \n",
        "Caso o candidato não exista, exibir a mensagem \"Candidato inexistente\"."
      ],
      "metadata": {
        "id": "iWhsZhkIMZ3q"
      },
      "execution_count": null,
      "outputs": []
    },
    {
      "cell_type": "code",
      "execution_count": 11,
      "metadata": {
        "colab": {
          "base_uri": "https://localhost:8080/"
        },
        "id": "8gBiUqhIGH7b",
        "outputId": "7ef97e13-62ca-4440-ae4e-e08821d2899d"
      },
      "outputs": [
        {
          "output_type": "execute_result",
          "data": {
            "text/plain": [
              "{'Andre': 8.5,\n",
              " 'Ana': 7.0,\n",
              " 'Chico': 6.5,\n",
              " 'Nubia': 10,\n",
              " 'Luana': 8,\n",
              " 'Julio': 5.5,\n",
              " 'Aristides': 6.0,\n",
              " 'Sebastiana': 9.5,\n",
              " 'Camila': 10,\n",
              " 'João': 6}"
            ]
          },
          "metadata": {},
          "execution_count": 11
        }
      ],
      "source": [
        "#Ordene o dicionário da maior nota para a menor nota\n",
        "\n",
        "provaA = {'Andre': 8.5, 'Ana': 7.0, 'Chico': 6.5, 'Nubia': 10, 'Luana': 8}\n",
        "provaB = {'Julio': 5.5, 'Aristides': 6.0, 'Sebastiana': 9.5, 'Camila': 10, 'João': 6}\n",
        "\n",
        "resultado_final = {}\n",
        "resultado_final.update(provaA)\n",
        "resultado_final.update(provaB)\n",
        "\n",
        "resultado_final"
      ]
    },
    {
      "cell_type": "code",
      "source": [
        "sorted(resultado_final.items(), key = lambda x: x[1], reverse = True)"
      ],
      "metadata": {
        "colab": {
          "base_uri": "https://localhost:8080/"
        },
        "id": "1T-rMJYyJ60E",
        "outputId": "d7797a4f-6997-4ff5-d217-4f299abd9d45"
      },
      "execution_count": 17,
      "outputs": [
        {
          "output_type": "execute_result",
          "data": {
            "text/plain": [
              "[('Nubia', 10),\n",
              " ('Camila', 10),\n",
              " ('Sebastiana', 9.5),\n",
              " ('Andre', 8.5),\n",
              " ('Luana', 8),\n",
              " ('Ana', 7.0),\n",
              " ('Chico', 6.5),\n",
              " ('Aristides', 6.0),\n",
              " ('João', 6),\n",
              " ('Julio', 5.5)]"
            ]
          },
          "metadata": {},
          "execution_count": 17
        }
      ]
    },
    {
      "cell_type": "code",
      "source": [
        "listaCandidatos = list(resultado_final.keys())\n",
        "listaCandidatos"
      ],
      "metadata": {
        "colab": {
          "base_uri": "https://localhost:8080/"
        },
        "id": "ybwA7DBOLJsT",
        "outputId": "a905b622-3cfb-4d1a-c6da-9ec1ee4b27dc"
      },
      "execution_count": 19,
      "outputs": [
        {
          "output_type": "execute_result",
          "data": {
            "text/plain": [
              "['Andre',\n",
              " 'Ana',\n",
              " 'Chico',\n",
              " 'Nubia',\n",
              " 'Luana',\n",
              " 'Julio',\n",
              " 'Aristides',\n",
              " 'Sebastiana',\n",
              " 'Camila',\n",
              " 'João']"
            ]
          },
          "metadata": {},
          "execution_count": 19
        }
      ]
    },
    {
      "cell_type": "code",
      "source": [
        "listaNotas = list(resultado_final.values())\n",
        "listaNotas"
      ],
      "metadata": {
        "colab": {
          "base_uri": "https://localhost:8080/"
        },
        "id": "-jFjanwaMMcz",
        "outputId": "6b341c5a-3bd6-4b0e-d09c-28d52ec5bd53"
      },
      "execution_count": 21,
      "outputs": [
        {
          "output_type": "execute_result",
          "data": {
            "text/plain": [
              "[8.5, 7.0, 6.5, 10, 8, 5.5, 6.0, 9.5, 10, 6]"
            ]
          },
          "metadata": {},
          "execution_count": 21
        }
      ]
    },
    {
      "cell_type": "code",
      "source": [
        "def consultaNota(dicNotas, nome):\n",
        "  if nome in dicNotas:\n",
        "    return dicNotas[nome]\n",
        "  else:\n",
        "    return 'Candidato Inexistente'"
      ],
      "metadata": {
        "id": "kIs5oyUIMWRF"
      },
      "execution_count": 22,
      "outputs": []
    },
    {
      "cell_type": "code",
      "source": [
        "nomeCandidato = input('Digite seu Nome: ')\n",
        "notaCandidato = consultaNota(resultado_final,nomeCandidato)\n",
        "print (notaCandidato)"
      ],
      "metadata": {
        "colab": {
          "base_uri": "https://localhost:8080/"
        },
        "id": "x2223pjfNhFq",
        "outputId": "f344025a-fb46-4ef2-aa33-f24687303b8f"
      },
      "execution_count": 26,
      "outputs": [
        {
          "output_type": "stream",
          "name": "stdout",
          "text": [
            "Digite seu Nome: Julio\n",
            "5.5\n"
          ]
        }
      ]
    },
    {
      "cell_type": "code",
      "source": [],
      "metadata": {
        "id": "5SCjM_DWNmvu"
      },
      "execution_count": null,
      "outputs": []
    }
  ]
}