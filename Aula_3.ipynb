{
  "nbformat": 4,
  "nbformat_minor": 0,
  "metadata": {
    "colab": {
      "provenance": [],
      "authorship_tag": "ABX9TyNZE7B3bAbpBtscdEXnOsop",
      "include_colab_link": true
    },
    "kernelspec": {
      "name": "python3",
      "display_name": "Python 3"
    },
    "language_info": {
      "name": "python"
    }
  },
  "cells": [
    {
      "cell_type": "markdown",
      "metadata": {
        "id": "view-in-github",
        "colab_type": "text"
      },
      "source": [
        "<a href=\"https://colab.research.google.com/github/iT4lloEdw/Programa-o-FPB/blob/main/Aula_3.ipynb\" target=\"_parent\"><img src=\"https://colab.research.google.com/assets/colab-badge.svg\" alt=\"Open In Colab\"/></a>"
      ]
    },
    {
      "cell_type": "code",
      "execution_count": null,
      "metadata": {
        "id": "qywBwDl6hZFl"
      },
      "outputs": [],
      "source": []
    },
    {
      "cell_type": "code",
      "source": [
        "a = 90\n",
        "b = 42\n",
        "\n",
        "print(a+b)\n",
        "print(a-b)\n",
        "print(a*b)\n",
        "print(a/b)\n",
        "print(a%b) #O resto da operação"
      ],
      "metadata": {
        "colab": {
          "base_uri": "https://localhost:8080/"
        },
        "id": "GZurraE_lHYG",
        "outputId": "89105f95-57d6-4fc6-b92f-49d7af960876"
      },
      "execution_count": null,
      "outputs": [
        {
          "output_type": "stream",
          "name": "stdout",
          "text": [
            "132\n",
            "48\n",
            "3780\n",
            "2.142857142857143\n",
            "6\n"
          ]
        }
      ]
    },
    {
      "cell_type": "code",
      "source": [
        "nome = input('Digite seu nome: ')\n",
        "print('Olá, '+nome)"
      ],
      "metadata": {
        "colab": {
          "base_uri": "https://localhost:8080/"
        },
        "id": "_ofKe_fRnCkd",
        "outputId": "c20dd8b7-873f-4f62-e01b-849f12ed35aa"
      },
      "execution_count": null,
      "outputs": [
        {
          "output_type": "stream",
          "name": "stdout",
          "text": [
            "Digite seu nome: SSIM\n",
            "Olá, SSIM\n"
          ]
        }
      ]
    },
    {
      "cell_type": "code",
      "source": [
        "#Código para dizer a idade da pessoa\n",
        "anoNascim = int(input('Digite o ano de nascimento!'))\n",
        "print('Sua idade é: ',2023-anoNascim)"
      ],
      "metadata": {
        "colab": {
          "base_uri": "https://localhost:8080/"
        },
        "id": "E3msGz6wnmcj",
        "outputId": "7109b993-abed-4f5a-d0b1-6dd754a9fbe7"
      },
      "execution_count": null,
      "outputs": [
        {
          "output_type": "stream",
          "name": "stdout",
          "text": [
            "Digite o ano de nascimento!2004\n",
            "Sua idade é:  19\n"
          ]
        }
      ]
    },
    {
      "cell_type": "code",
      "source": [
        "#Solicita a altura e o peso de alguém, e retorna o IMC\n",
        "#IMC = peso / altura**2\n",
        "\n",
        "peso = float(input('Digite o peso! '))\n",
        "altura = float(input('Digite a altura!'))\n",
        "imc = peso/altura**2\n",
        "print('O IMC é:', imc)"
      ],
      "metadata": {
        "colab": {
          "base_uri": "https://localhost:8080/"
        },
        "id": "7HEtiYtcoxaJ",
        "outputId": "28eee5cd-ccf8-49ba-f66d-928128c35def"
      },
      "execution_count": null,
      "outputs": [
        {
          "output_type": "stream",
          "name": "stdout",
          "text": [
            "Digite o peso! 65\n",
            "Digite a altura!1.73\n",
            "O IMC é: 21.71806608974573\n"
          ]
        }
      ]
    },
    {
      "cell_type": "code",
      "source": [
        "#Verificaçõe"
      ],
      "metadata": {
        "id": "ZUiKRG4FvJia"
      },
      "execution_count": null,
      "outputs": []
    },
    {
      "cell_type": "code",
      "source": [
        "#Verificar se um número é par\n",
        "num = int(input('Digite um número: '))\n",
        "if(num%2 == 0):\n",
        "  print('O número é par')\n",
        "else:\n",
        "  print('O número é impar')  "
      ],
      "metadata": {
        "colab": {
          "base_uri": "https://localhost:8080/"
        },
        "id": "jaxUqBXNuUlj",
        "outputId": "bfcef588-7567-4cd4-8017-a626e842f08d"
      },
      "execution_count": null,
      "outputs": [
        {
          "output_type": "stream",
          "name": "stdout",
          "text": [
            "Digite um número: 34\n",
            "O número é par\n"
          ]
        }
      ]
    },
    {
      "cell_type": "code",
      "source": [
        "#Em um campeonato de MMA. tem três categorias por peso\n",
        "#Galo até 60kg\n",
        "#Médio até 80kg\n",
        "#Meio pesado até 90kg\n",
        "peso = float(input('Digite o peso do atleta: '))\n",
        "if(peso < 70):\n",
        "  print('Médio')\n",
        "elif(peso <= 80):\n",
        "  print('Medio')\n",
        "else:\n",
        "  print('Meio Pesado') \n",
        "   \n"
      ],
      "metadata": {
        "colab": {
          "base_uri": "https://localhost:8080/"
        },
        "id": "9rSjvH9UyXnq",
        "outputId": "6cdadefc-d455-4262-bf0a-e6e1adf9d380"
      },
      "execution_count": null,
      "outputs": [
        {
          "output_type": "stream",
          "name": "stdout",
          "text": [
            "Digite o peso do atleta: 65\n",
            "Médio\n"
          ]
        }
      ]
    },
    {
      "cell_type": "code",
      "source": [
        "#Solicita a altura e o peso de alguém, e retorna o IMC\n",
        "#IMC = peso / altura**2\n",
        "\n",
        "peso = float(input('Digite o peso! '))\n",
        "altura = float(input('Digite a altura!'))\n",
        "imc = peso/altura**2\n",
        "\n",
        "#Abaixo do peso menor que 18\n",
        "#Peso normal ate 25\n",
        "#Excesso de peso até 30\n",
        "#Obesidade classe I até 35\n",
        "#Obesidade classe II até 40\n",
        "#Obesidade classe III mais ou igual 40\n",
        "\n",
        "if(imc < 18.5):\n",
        "   print('Abaixo do peso')\n",
        "\n",
        "elif(imc < 24.9):\n",
        "   print('Peso normal')\n",
        "\n",
        "elif(imc < 29.9):\n",
        "  print('Excesso de peso')\n",
        "\n",
        "elif(imc < 34.9):\n",
        "   print('Obesidade classe I')\n",
        "\n",
        "elif(imc < 39.9):\n",
        "   print('Obesidade classe II')\n",
        "\n",
        "else:\n",
        "    print('Obesidade classe III')\n",
        "\n",
        "\n",
        "print('O IMC é:', round(imc,2))\n"
      ],
      "metadata": {
        "colab": {
          "base_uri": "https://localhost:8080/"
        },
        "id": "r70aO6NU1UeR",
        "outputId": "e350e953-283c-4a77-cfb8-cebeba55fa87"
      },
      "execution_count": 49,
      "outputs": [
        {
          "output_type": "stream",
          "name": "stdout",
          "text": [
            "Digite o peso! 64\n",
            "Digite a altura!1.73\n",
            "Peso normal\n",
            "O IMC é: 21.38\n"
          ]
        }
      ]
    }
  ]
}