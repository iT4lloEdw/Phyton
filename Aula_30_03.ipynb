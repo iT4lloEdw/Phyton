{
  "nbformat": 4,
  "nbformat_minor": 0,
  "metadata": {
    "colab": {
      "provenance": [],
      "authorship_tag": "ABX9TyNRNCdoG2ea3TGDF4nfpXKo",
      "include_colab_link": true
    },
    "kernelspec": {
      "name": "python3",
      "display_name": "Python 3"
    },
    "language_info": {
      "name": "python"
    }
  },
  "cells": [
    {
      "cell_type": "markdown",
      "metadata": {
        "id": "view-in-github",
        "colab_type": "text"
      },
      "source": [
        "<a href=\"https://colab.research.google.com/github/iT4lloEdw/Programa-o-FPB/blob/main/Aula_30_03.ipynb\" target=\"_parent\"><img src=\"https://colab.research.google.com/assets/colab-badge.svg\" alt=\"Open In Colab\"/></a>"
      ]
    },
    {
      "cell_type": "code",
      "execution_count": 4,
      "metadata": {
        "colab": {
          "base_uri": "https://localhost:8080/"
        },
        "id": "rUkbEq66jr8q",
        "outputId": "2261655f-96ad-4200-baf8-1c9371989b41"
      },
      "outputs": [
        {
          "output_type": "stream",
          "name": "stdout",
          "text": [
            "True\n",
            "True\n",
            "False\n",
            "True\n",
            "False\n",
            "True\n"
          ]
        }
      ],
      "source": [
        "#Tipos booleanos\n",
        "print(100 == (50+50)) #igualdade\n",
        "print(100 >= (50+50))\n",
        "print(100 >(50+50))\n",
        "print(100 <= (50+50))\n",
        "print(100 != (50+50))\n",
        "print(100 !=99)"
      ]
    },
    {
      "cell_type": "code",
      "source": [
        "# Se a idade for maior ou igual a 16, exiba: Pode tirar habilitação\n",
        "idade = int(input('Digite a idade:'))\n",
        "if (idade >= 16):\n",
        "  print('Pode tirar a habilitação')\n",
        "else:\n",
        "  print('Não pode tirar a habilitação')"
      ],
      "metadata": {
        "colab": {
          "base_uri": "https://localhost:8080/"
        },
        "id": "jsas-XZ4j1yd",
        "outputId": "87b570b8-d5bd-4177-c764-0b45fce3e7e3"
      },
      "execution_count": 6,
      "outputs": [
        {
          "output_type": "stream",
          "name": "stdout",
          "text": [
            "Digite a idade:12\n",
            "Não pode tirar a habilitação\n"
          ]
        }
      ]
    },
    {
      "cell_type": "code",
      "source": [
        "#Se for do sexo feminino \"F\". e tiver 55 anos  ou mais, pode se aposentar\n",
        "#Se for do sexo masculino \"M\", só se aposenta com 60 anos ou mais.\n",
        "sexo = input('insira o sexo, m (masculino) ou f (feminino): ')\n",
        "idade = int(input('insira a idade: '))\n",
        "\n",
        "if((sexo == 'F' and idade >=55) or (sexo == 'M' and idade >=60)):\n",
        "  print('Pode se aposentar')\n",
        "else:\n",
        "  print('Ainda não pode')  "
      ],
      "metadata": {
        "colab": {
          "base_uri": "https://localhost:8080/"
        },
        "id": "2m_DAY9frgoT",
        "outputId": "2a4cec5d-b676-4ea2-fd0e-51e26898d579"
      },
      "execution_count": 16,
      "outputs": [
        {
          "output_type": "stream",
          "name": "stdout",
          "text": [
            "insira o sexo, m (masculino) ou f (feminino): F\n",
            "insira a idade: 58\n",
            "Pode se aposentar\n"
          ]
        }
      ]
    },
    {
      "cell_type": "code",
      "source": [
        "#solicite três números A, B e C.\n",
        "#Imprima na tela se A+B é menor que C.\n",
        "\n",
        "a = int(input('Digite o primeiro num: '))\n",
        "b = int(input('Digite o segundo num: '))\n",
        "c = int(input('Digite o terceiro num: '))\n",
        "if(a+b < c):\n",
        "  print(\"é menor\")\n",
        "else:\n",
        "  print('Não é menor')\n"
      ],
      "metadata": {
        "colab": {
          "base_uri": "https://localhost:8080/"
        },
        "id": "M8FL6Jfuv5MB",
        "outputId": "49839f8a-fb19-4dac-bd45-73dd03b6befc"
      },
      "execution_count": 17,
      "outputs": [
        {
          "output_type": "stream",
          "name": "stdout",
          "text": [
            "Digite o primeiro num: 3\n",
            "Digite o segundo num: 2\n",
            "Digite o terceiro num: 1\n",
            "Não é menor\n"
          ]
        }
      ]
    },
    {
      "cell_type": "code",
      "source": [
        "#Escreva um algoritmo que recebe 2 valores inteiros\n",
        "#E escreve na tela qual é o maior.\n",
        "\n",
        "valor1 =int(input('Digite o primeiro valor inteiro: '))\n",
        "valor2 =int(input('Digite o segundo valor inteiro: '))\n",
        "\n",
        "if(valor1 >= valor2):\n",
        "  print('valor maior')\n",
        "else:\n",
        "  print('é menor')\n",
        "elif:  \n"
      ],
      "metadata": {
        "colab": {
          "base_uri": "https://localhost:8080/"
        },
        "id": "yYenma0ryYkU",
        "outputId": "540d75a8-f8cc-4940-f40b-53a266c6b3d6"
      },
      "execution_count": 25,
      "outputs": [
        {
          "output_type": "stream",
          "name": "stdout",
          "text": [
            "Digite o primeiro valor inteiro: 47\n",
            "Digite o segundo valor inteiro: 21\n",
            "valor maior\n"
          ]
        }
      ]
    },
    {
      "cell_type": "code",
      "source": [
        "#Linguagens fortemente tipadas\n",
        "#Linguagens de tipagem dinâmica"
      ],
      "metadata": {
        "id": "QmJtK2Lp6-26"
      },
      "execution_count": null,
      "outputs": []
    },
    {
      "cell_type": "code",
      "source": [
        "#Listas são estruturas de dados formadas por elementos de um mesmo tipo\n",
        "numeros = [12, 5, 3, 6]\n",
        "numeros"
      ],
      "metadata": {
        "colab": {
          "base_uri": "https://localhost:8080/"
        },
        "id": "5d4YcYcZ5wxx",
        "outputId": "13170391-3977-4008-85c2-6fa01daa0f92"
      },
      "execution_count": 31,
      "outputs": [
        {
          "output_type": "execute_result",
          "data": {
            "text/plain": [
              "[12, 5, 3, 6]"
            ]
          },
          "metadata": {},
          "execution_count": 31
        }
      ]
    },
    {
      "cell_type": "code",
      "source": [
        "#tamanho de uma lista\n",
        "len(numeros)\n",
        "     "
      ],
      "metadata": {
        "colab": {
          "base_uri": "https://localhost:8080/"
        },
        "id": "UGg9DuRG7yla",
        "outputId": "564b6a88-a9f4-4cb4-9fce-124c8f120f6e"
      },
      "execution_count": 28,
      "outputs": [
        {
          "output_type": "execute_result",
          "data": {
            "text/plain": [
              "5"
            ]
          },
          "metadata": {},
          "execution_count": 28
        }
      ]
    },
    {
      "cell_type": "code",
      "source": [
        "#Indices [12, 5, 3, 6]\n",
        "print(numeros[0])\n",
        "print(numeros[1])\n",
        "print(numeros[2])\n",
        "print(numeros[3])\n"
      ],
      "metadata": {
        "colab": {
          "base_uri": "https://localhost:8080/"
        },
        "id": "5nV_V1os78VI",
        "outputId": "ec2df7e5-5de5-43d4-c3e8-8c17c272877b"
      },
      "execution_count": 32,
      "outputs": [
        {
          "output_type": "stream",
          "name": "stdout",
          "text": [
            "12\n",
            "5\n",
            "3\n",
            "6\n"
          ]
        }
      ]
    },
    {
      "cell_type": "code",
      "source": [
        "#listas de outros tipos\n",
        "alunos = ['Zezin', 'Manoel', 'Reginaldo', 'Chico', 'Roberval']\n",
        "alunos"
      ],
      "metadata": {
        "colab": {
          "base_uri": "https://localhost:8080/"
        },
        "id": "gwHLTtzv9okN",
        "outputId": "c5244bc9-b2c3-4efb-c378-30a28ab34182"
      },
      "execution_count": 34,
      "outputs": [
        {
          "output_type": "execute_result",
          "data": {
            "text/plain": [
              "['Zezin', 'Manoel', 'Reginaldo', 'Chico', 'Roberval']"
            ]
          },
          "metadata": {},
          "execution_count": 34
        }
      ]
    },
    {
      "cell_type": "code",
      "source": [
        "#alterar o valores de itens de lista\n",
        "alunos[3] = 'Reginaldo'"
      ],
      "metadata": {
        "id": "AO84w3R8-l8_"
      },
      "execution_count": 44,
      "outputs": []
    },
    {
      "cell_type": "code",
      "source": [
        "#inserir valores da lista\n",
        "alunos.append('Zezin')\n",
        "alunos"
      ],
      "metadata": {
        "colab": {
          "base_uri": "https://localhost:8080/"
        },
        "id": "ThyjnR-Y_JLM",
        "outputId": "c4ca1980-55fb-44cc-d62a-2fad8ae8a2ca"
      },
      "execution_count": 40,
      "outputs": [
        {
          "output_type": "execute_result",
          "data": {
            "text/plain": [
              "['Zezin', 'Manoel', 'Reginaldo', 'Chico', 'Roberval', 'Zezin']"
            ]
          },
          "metadata": {},
          "execution_count": 40
        }
      ]
    },
    {
      "cell_type": "code",
      "source": [
        "alunos.append(input('Digite o nome:'))\n"
      ],
      "metadata": {
        "colab": {
          "base_uri": "https://localhost:8080/"
        },
        "id": "fE7cCcE7_nCb",
        "outputId": "4c6a6e87-19c3-4ee6-f201-1a7ce2701c38"
      },
      "execution_count": 48,
      "outputs": [
        {
          "name": "stdout",
          "output_type": "stream",
          "text": [
            "Digite o nome:Lopes\n"
          ]
        }
      ]
    },
    {
      "cell_type": "code",
      "source": [
        "alunos"
      ],
      "metadata": {
        "colab": {
          "base_uri": "https://localhost:8080/"
        },
        "id": "bPQjPlkyATjs",
        "outputId": "cf0ee7e3-cd3a-496b-adfb-0158d4ec3c47"
      },
      "execution_count": 49,
      "outputs": [
        {
          "output_type": "execute_result",
          "data": {
            "text/plain": [
              "['Zezin', 'Manoel', 'Reginaldo', 'Reginaldo', 'Roberval', 'Zezin', 'Lopes']"
            ]
          },
          "metadata": {},
          "execution_count": 49
        }
      ]
    },
    {
      "cell_type": "code",
      "source": [
        "alunos.pop()\n",
        "alunos"
      ],
      "metadata": {
        "colab": {
          "base_uri": "https://localhost:8080/"
        },
        "id": "mxraxntWAWlL",
        "outputId": "d23258b7-874c-4f49-b711-93b0b9549d89"
      },
      "execution_count": 50,
      "outputs": [
        {
          "output_type": "execute_result",
          "data": {
            "text/plain": [
              "['Zezin', 'Manoel', 'Reginaldo', 'Reginaldo', 'Roberval', 'Zezin']"
            ]
          },
          "metadata": {},
          "execution_count": 50
        }
      ]
    },
    {
      "cell_type": "code",
      "source": [
        "#Descobrir se há um valor determinado na lista, exibir sua posição na lista\n",
        "if 'Juvenal' in alunos:\n",
        "  print('Tem Reginaldo (SIM)')\n",
        "else:\n",
        "  print('Tem Não')  "
      ],
      "metadata": {
        "colab": {
          "base_uri": "https://localhost:8080/"
        },
        "id": "XvT72ouvBDKf",
        "outputId": "1b1e3e66-4136-4975-a5ae-629f4995c568"
      },
      "execution_count": 54,
      "outputs": [
        {
          "output_type": "stream",
          "name": "stdout",
          "text": [
            "Tem Não\n"
          ]
        }
      ]
    }
  ]
}