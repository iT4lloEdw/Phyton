{
  "nbformat": 4,
  "nbformat_minor": 0,
  "metadata": {
    "colab": {
      "provenance": [],
      "authorship_tag": "ABX9TyPcTPS3PbERBoFVahmARiaQ",
      "include_colab_link": true
    },
    "kernelspec": {
      "name": "python3",
      "display_name": "Python 3"
    },
    "language_info": {
      "name": "python"
    }
  },
  "cells": [
    {
      "cell_type": "markdown",
      "metadata": {
        "id": "view-in-github",
        "colab_type": "text"
      },
      "source": [
        "<a href=\"https://colab.research.google.com/github/iT4lloEdw/Phyton/blob/main/Dicion%C3%A1rios.ipynb\" target=\"_parent\"><img src=\"https://colab.research.google.com/assets/colab-badge.svg\" alt=\"Open In Colab\"/></a>"
      ]
    },
    {
      "cell_type": "code",
      "execution_count": null,
      "metadata": {
        "id": "MlvIcpiZA8gv"
      },
      "outputs": [],
      "source": [
        "#CRUD\n",
        "\n",
        "#C - CRUD\n",
        "#R - RECOVERY\n",
        "#U - UPDATE\n",
        "#D - DELETE"
      ]
    },
    {
      "cell_type": "code",
      "source": [
        "#Criar\n",
        "lutas = {}\n",
        "lutas = "
      ],
      "metadata": {
        "id": "s08gubi2GbJX"
      },
      "execution_count": null,
      "outputs": []
    },
    {
      "cell_type": "code",
      "source": [
        "#Criar\n",
        "lutadores = [\n",
        "    {\n",
        "        \"nome\":'Israel Adesanya',\n",
        "        \"categoria\" : \"Meio médio\",\n",
        "        \"envergadura\": 2\n",
        "    },\n",
        "     {\n",
        "        \"nome\":'Zé da Manga',\n",
        "        \"categoria\" : \"Palha\",\n",
        "        \"envergadura\": 1.6\n",
        "      }\n",
        "\n",
        "]\n",
        "lutadores      "
      ],
      "metadata": {
        "colab": {
          "base_uri": "https://localhost:8080/"
        },
        "id": "Ox22ot6IGkcQ",
        "outputId": "2fe73ba7-b95e-4fec-d1ad-7c5740eb4eba"
      },
      "execution_count": 8,
      "outputs": [
        {
          "output_type": "execute_result",
          "data": {
            "text/plain": [
              "[{'nome': 'Israel Adesanya', 'categoria': 'Meio médio', 'envergadura': 2},\n",
              " {'nome': 'Zé da Manga', 'categoria': 'Palha', 'envergadura': 1.6}]"
            ]
          },
          "metadata": {},
          "execution_count": 8
        }
      ]
    },
    {
      "cell_type": "code",
      "source": [
        "#Contatos\n",
        "contatos = {\n",
        "    'Zé da Manga' : 'zedamanga@email.com',\n",
        "    'Manoel' : 'manoel@email.com',\n",
        "    'Vasco' : 'vasco@email.com', \n",
        "  \n",
        "}\n",
        "\n",
        "contatos"
      ],
      "metadata": {
        "colab": {
          "base_uri": "https://localhost:8080/"
        },
        "id": "IHh2lqQIJTkQ",
        "outputId": "5da06de6-b7e1-44c3-bce1-19e51cb8da57"
      },
      "execution_count": 9,
      "outputs": [
        {
          "output_type": "execute_result",
          "data": {
            "text/plain": [
              "{'Zé da Manga': 'zedamanga@email.com',\n",
              " 'Manoel': 'manoel@email.com',\n",
              " 'Vasco': 'vasco@email.com'}"
            ]
          },
          "metadata": {},
          "execution_count": 9
        }
      ]
    },
    {
      "cell_type": "code",
      "source": [
        "#Adição por concatenação\n",
        "contacts = {'roberval': 'roberval@email.com', \n",
        "     'reginaldo':'reginaldo@exemplo.com',\n",
        "     'chico' : 'chico@exml.com'}\n",
        "\n",
        "contatos.update(contacts)\n",
        "\n",
        "contatos"
      ],
      "metadata": {
        "colab": {
          "base_uri": "https://localhost:8080/"
        },
        "id": "VjlwGcaIJjo_",
        "outputId": "e38c9306-c159-42ae-c7a0-88a62350fa59"
      },
      "execution_count": 12,
      "outputs": [
        {
          "output_type": "execute_result",
          "data": {
            "text/plain": [
              "{'roberval': 'roberval@email.com',\n",
              " 'reginaldo': 'reginaldo@exemplo.com',\n",
              " 'chico': 'chico@exml.com'}"
            ]
          },
          "metadata": {},
          "execution_count": 12
        }
      ]
    },
    {
      "cell_type": "code",
      "source": [
        "#Modificar (só inserir um novo valor à chave correspondente)\n",
        "contatos['chico'] = 'chicofdr@exemplo.com'\n",
        "\n",
        "contatos"
      ],
      "metadata": {
        "colab": {
          "base_uri": "https://localhost:8080/"
        },
        "id": "iEy2gO4jKTvW",
        "outputId": "06386a0d-f654-4569-dea0-c86ff22076ea"
      },
      "execution_count": 20,
      "outputs": [
        {
          "output_type": "execute_result",
          "data": {
            "text/plain": [
              "{'roberval': 'zeca@exemplo.com',\n",
              " 'reginaldo': 'reginaldo@exemplo.com',\n",
              " 'chico': 'chicofdr@exemplo.com'}"
            ]
          },
          "metadata": {},
          "execution_count": 20
        }
      ]
    },
    {
      "cell_type": "code",
      "source": [
        "#Remoção del\n",
        "\n",
        "del contatos['chico']\n",
        "\n",
        "contatos"
      ],
      "metadata": {
        "colab": {
          "base_uri": "https://localhost:8080/"
        },
        "id": "q-Re5UdHLQjz",
        "outputId": "1b26765b-7da0-4ee3-80a7-7b9db38b9169"
      },
      "execution_count": 21,
      "outputs": [
        {
          "output_type": "execute_result",
          "data": {
            "text/plain": [
              "{'roberval': 'zeca@exemplo.com', 'reginaldo': 'reginaldo@exemplo.com'}"
            ]
          },
          "metadata": {},
          "execution_count": 21
        }
      ]
    },
    {
      "cell_type": "code",
      "source": [
        "contatos.items()"
      ],
      "metadata": {
        "colab": {
          "base_uri": "https://localhost:8080/"
        },
        "id": "NesetmcdMr6o",
        "outputId": "c061cbd1-5658-430e-d3e5-9218f2c4a32a"
      },
      "execution_count": 22,
      "outputs": [
        {
          "output_type": "execute_result",
          "data": {
            "text/plain": [
              "dict_items([('roberval', 'zeca@exemplo.com'), ('reginaldo', 'reginaldo@exemplo.com')])"
            ]
          },
          "metadata": {},
          "execution_count": 22
        }
      ]
    },
    {
      "cell_type": "code",
      "source": [
        "#Iterando sobre dicionários\n",
        "for nome, email in contatos.items():\n",
        "  print(f'o Email {email} pertence a {nome}')"
      ],
      "metadata": {
        "colab": {
          "base_uri": "https://localhost:8080/"
        },
        "id": "1BiBqXuxMsvT",
        "outputId": "d3a66f21-5a8a-4aba-8b43-965c9ae176e0"
      },
      "execution_count": 23,
      "outputs": [
        {
          "output_type": "stream",
          "name": "stdout",
          "text": [
            "o Email zeca@exemplo.com pertence a roberval\n",
            "o Email reginaldo@exemplo.com pertence a reginaldo\n"
          ]
        }
      ]
    },
    {
      "cell_type": "code",
      "source": [
        "#métodos úteis keys(), values()\n",
        "contatos.keys()\n",
        "contatos.values()"
      ],
      "metadata": {
        "colab": {
          "base_uri": "https://localhost:8080/"
        },
        "id": "H1WK6XkpPcFN",
        "outputId": "55601a55-5e22-4ace-e953-f752f93a81c4"
      },
      "execution_count": 24,
      "outputs": [
        {
          "output_type": "execute_result",
          "data": {
            "text/plain": [
              "dict_values(['zeca@exemplo.com', 'reginaldo@exemplo.com'])"
            ]
          },
          "metadata": {},
          "execution_count": 24
        }
      ]
    },
    {
      "cell_type": "code",
      "source": [
        "#Quem obteve a maior nota?\n",
        "curso = {'Deco': 8.5, 'Romeu': 7.0, 'Manoel': 6.5, 'Reginaldo': 3}\n",
        "max(curso, key= curso.get)"
      ],
      "metadata": {
        "colab": {
          "base_uri": "https://localhost:8080/",
          "height": 36
        },
        "id": "aE7ni66fQHVC",
        "outputId": "cc513299-578d-4745-d759-77191bec36cc"
      },
      "execution_count": 33,
      "outputs": [
        {
          "output_type": "execute_result",
          "data": {
            "text/plain": [
              "'Deco'"
            ],
            "application/vnd.google.colaboratory.intrinsic+json": {
              "type": "string"
            }
          },
          "metadata": {},
          "execution_count": 33
        }
      ]
    },
    {
      "cell_type": "code",
      "source": [
        "#E a menor nota?\n",
        "min(curso, key = curso.get)"
      ],
      "metadata": {
        "colab": {
          "base_uri": "https://localhost:8080/",
          "height": 36
        },
        "id": "MsgkdWRsTQ19",
        "outputId": "1b84e1b5-16cd-4505-bb4d-32740373d767"
      },
      "execution_count": 41,
      "outputs": [
        {
          "output_type": "execute_result",
          "data": {
            "text/plain": [
              "'Paulão'"
            ],
            "application/vnd.google.colaboratory.intrinsic+json": {
              "type": "string"
            }
          },
          "metadata": {},
          "execution_count": 41
        }
      ]
    },
    {
      "cell_type": "code",
      "source": [
        "#Quem obteve a menor nota?\n",
        "curso = {'Sheila': 7.5, 'Romerito': 6, 'Paulão': 4} \n",
        "min(curso, key = curso.get)"
      ],
      "metadata": {
        "colab": {
          "base_uri": "https://localhost:8080/",
          "height": 36
        },
        "id": "LArg5ThNTDwX",
        "outputId": "0b2fe969-2240-4e4c-f5d0-733575790e59"
      },
      "execution_count": 40,
      "outputs": [
        {
          "output_type": "execute_result",
          "data": {
            "text/plain": [
              "'Paulão'"
            ],
            "application/vnd.google.colaboratory.intrinsic+json": {
              "type": "string"
            }
          },
          "metadata": {},
          "execution_count": 40
        }
      ]
    },
    {
      "cell_type": "code",
      "source": [
        "#Ordene pela nota da menor para a maior\n",
        "sorted(curso, key = curso.get)"
      ],
      "metadata": {
        "colab": {
          "base_uri": "https://localhost:8080/"
        },
        "id": "m9-dH6UDTEw-",
        "outputId": "39eb1869-8ea6-4301-b31b-4b7a77709923"
      },
      "execution_count": 42,
      "outputs": [
        {
          "output_type": "execute_result",
          "data": {
            "text/plain": [
              "['Paulão', 'Romerito', 'Sheila']"
            ]
          },
          "metadata": {},
          "execution_count": 42
        }
      ]
    },
    {
      "cell_type": "code",
      "source": [
        "#Ordene pela nota da maior para a menor\n",
        "sorted(curso, key = curso.get, reverse = True)"
      ],
      "metadata": {
        "colab": {
          "base_uri": "https://localhost:8080/"
        },
        "id": "lffztDwdTftw",
        "outputId": "59780450-23a1-474e-f4e5-aa61b996f8f0"
      },
      "execution_count": 43,
      "outputs": [
        {
          "output_type": "execute_result",
          "data": {
            "text/plain": [
              "['Sheila', 'Romerito', 'Paulão']"
            ]
          },
          "metadata": {},
          "execution_count": 43
        }
      ]
    },
    {
      "cell_type": "code",
      "source": [
        "#Exercícios\n",
        "\n",
        "#O dicionário a seguir contém uma relação de atletas e seus respectivos tempos em uma corrida de 100 metros.\n",
        "\n",
        "corrida100m = {'Zé': 10, 'Marco': 9.9, 'Marta': 9.98, 'Lourdes': 10.2}\n",
        "#Primeiro\n",
        "primeiro = min(corrida100m, key = corrida100m.get)\n",
        "\n",
        "#Quem foi o último lugar?\n",
        "ultimo = max(corrida100m, key = corrida100m.get)\n",
        "\n",
        "#ordenar\n",
        "sorted(corrida100m, key = corrida100m.get)"
      ],
      "metadata": {
        "colab": {
          "base_uri": "https://localhost:8080/"
        },
        "id": "m-e-Sk-RTjdG",
        "outputId": "08166ff4-20b3-40a6-af8a-9c77d426a0fb"
      },
      "execution_count": 52,
      "outputs": [
        {
          "output_type": "execute_result",
          "data": {
            "text/plain": [
              "['Marco', 'Marta', 'Zé', 'Lourdes']"
            ]
          },
          "metadata": {},
          "execution_count": 52
        }
      ]
    }
  ]
}