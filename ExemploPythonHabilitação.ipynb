{
  "nbformat": 4,
  "nbformat_minor": 0,
  "metadata": {
    "colab": {
      "provenance": [],
      "authorship_tag": "ABX9TyNA8yfMLjEQfq6HZ5f8QxOe",
      "include_colab_link": true
    },
    "kernelspec": {
      "name": "python3",
      "display_name": "Python 3"
    },
    "language_info": {
      "name": "python"
    }
  },
  "cells": [
    {
      "cell_type": "markdown",
      "metadata": {
        "id": "view-in-github",
        "colab_type": "text"
      },
      "source": [
        "<a href=\"https://colab.research.google.com/github/iT4lloEdw/Programa-o-FPB/blob/main/ExemploPythonHabilita%C3%A7%C3%A3o.ipynb\" target=\"_parent\"><img src=\"https://colab.research.google.com/assets/colab-badge.svg\" alt=\"Open In Colab\"/></a>"
      ]
    },
    {
      "cell_type": "code",
      "execution_count": 1,
      "metadata": {
        "colab": {
          "base_uri": "https://localhost:8080/"
        },
        "id": "k6dCn-EmsYC3",
        "outputId": "c7ac1499-90dc-4af4-aff7-a8bf4c81c3c9"
      },
      "outputs": [
        {
          "output_type": "stream",
          "name": "stdout",
          "text": [
            "Digite a idade:12\n",
            "Não pode tirar a habilitação\n"
          ]
        }
      ],
      "source": [
        "# Se a idade for maior ou igual a 16, exiba: Pode tirar habilitação\n",
        "idade = int(input('Digite a idade:'))\n",
        "if (idade >= 16):\n",
        "  print('Pode tirar a habilitação')\n",
        "else:\n",
        "  print('Não pode tirar a habilitação')"
      ]
    }
  ]
}