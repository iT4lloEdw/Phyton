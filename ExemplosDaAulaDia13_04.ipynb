{
  "nbformat": 4,
  "nbformat_minor": 0,
  "metadata": {
    "colab": {
      "provenance": [],
      "authorship_tag": "ABX9TyNPAK7gK3v7TeiaPjcCzCL0",
      "include_colab_link": true
    },
    "kernelspec": {
      "name": "python3",
      "display_name": "Python 3"
    },
    "language_info": {
      "name": "python"
    }
  },
  "cells": [
    {
      "cell_type": "markdown",
      "metadata": {
        "id": "view-in-github",
        "colab_type": "text"
      },
      "source": [
        "<a href=\"https://colab.research.google.com/github/iT4lloEdw/Programa-o-FPB/blob/main/ExemplosDaAulaDia13_04.ipynb\" target=\"_parent\"><img src=\"https://colab.research.google.com/assets/colab-badge.svg\" alt=\"Open In Colab\"/></a>"
      ]
    },
    {
      "cell_type": "code",
      "execution_count": 3,
      "metadata": {
        "colab": {
          "base_uri": "https://localhost:8080/"
        },
        "id": "nJco7LkduxYZ",
        "outputId": "d115cd15-35ee-4fbf-e66e-4d1a462144f9"
      },
      "outputs": [
        {
          "output_type": "execute_result",
          "data": {
            "text/plain": [
              "[0, 1, 2, 3, 4, 5, 6, 7, 8, 9, 10, 11, 12, 13, 14]"
            ]
          },
          "metadata": {},
          "execution_count": 3
        }
      ],
      "source": [
        "#Criar uma lista com números de 1 a 15\n",
        "numeros = []\n",
        "for num in range(15):\n",
        "  numeros.append(num)\n",
        "\n",
        "numeros"
      ]
    },
    {
      "cell_type": "code",
      "source": [
        "#Para usar a biblioteca random, é preciso importá-la\n",
        "import random\n",
        "\n",
        "#Criar uma lista com tamanho aleatório (entre 0 e 50)\n",
        "nums2 = []\n",
        "for num in range(random.randrange(0, 50)):\n",
        "  nums2.append(num)\n",
        "\n",
        "nums2  "
      ],
      "metadata": {
        "colab": {
          "base_uri": "https://localhost:8080/"
        },
        "id": "3PmanvN1whlz",
        "outputId": "561979e2-9495-48ec-8399-bed691fcc422"
      },
      "execution_count": 6,
      "outputs": [
        {
          "output_type": "execute_result",
          "data": {
            "text/plain": [
              "[0,\n",
              " 1,\n",
              " 2,\n",
              " 3,\n",
              " 4,\n",
              " 5,\n",
              " 6,\n",
              " 7,\n",
              " 8,\n",
              " 9,\n",
              " 10,\n",
              " 11,\n",
              " 12,\n",
              " 13,\n",
              " 14,\n",
              " 15,\n",
              " 16,\n",
              " 17,\n",
              " 18,\n",
              " 19,\n",
              " 20,\n",
              " 21,\n",
              " 22,\n",
              " 23,\n",
              " 24,\n",
              " 25,\n",
              " 26,\n",
              " 27,\n",
              " 28,\n",
              " 29,\n",
              " 30,\n",
              " 31,\n",
              " 32,\n",
              " 33,\n",
              " 34,\n",
              " 35,\n",
              " 36,\n",
              " 37,\n",
              " 38,\n",
              " 39,\n",
              " 40]"
            ]
          },
          "metadata": {},
          "execution_count": 6
        }
      ]
    },
    {
      "cell_type": "code",
      "source": [
        "#(Parentesis)Descobrir se um número é par\n",
        "a = int(input('Digite um número!' ))\n",
        "if a % 2 == 0:\n",
        "  print('É par')\n",
        "else:\n",
        "  print('É impar')  \n"
      ],
      "metadata": {
        "colab": {
          "base_uri": "https://localhost:8080/"
        },
        "id": "hl-Hi7J3zJnr",
        "outputId": "560c3f00-23f8-45ba-b388-8d4cf3437f26"
      },
      "execution_count": 35,
      "outputs": [
        {
          "output_type": "stream",
          "name": "stdout",
          "text": [
            "Digite um número!5\n",
            "É impar\n"
          ]
        }
      ]
    },
    {
      "cell_type": "code",
      "source": [
        "#Printar os números pares até 50\n",
        "numPares = []\n",
        "for num in range(51):\n",
        "  if(num % 2 ==0):\n",
        "    numPares.append(num)\n",
        "numPares  "
      ],
      "metadata": {
        "colab": {
          "base_uri": "https://localhost:8080/"
        },
        "id": "af_a4FjC1LVu",
        "outputId": "2753aedb-5b39-4714-96bc-bb7d688576a7"
      },
      "execution_count": 16,
      "outputs": [
        {
          "output_type": "execute_result",
          "data": {
            "text/plain": [
              "[0,\n",
              " 2,\n",
              " 4,\n",
              " 6,\n",
              " 8,\n",
              " 10,\n",
              " 12,\n",
              " 14,\n",
              " 16,\n",
              " 18,\n",
              " 20,\n",
              " 22,\n",
              " 24,\n",
              " 26,\n",
              " 28,\n",
              " 30,\n",
              " 32,\n",
              " 34,\n",
              " 36,\n",
              " 38,\n",
              " 40,\n",
              " 42,\n",
              " 44,\n",
              " 46,\n",
              " 48,\n",
              " 50]"
            ]
          },
          "metadata": {},
          "execution_count": 16
        }
      ]
    },
    {
      "cell_type": "code",
      "source": [
        "#Retorne a soma dos números de 1 a 100\n",
        "soma = 0\n",
        "\n",
        "for n in range(101):\n",
        "  soma = soma+n\n",
        "\n",
        "soma  "
      ],
      "metadata": {
        "colab": {
          "base_uri": "https://localhost:8080/"
        },
        "id": "I5BiZ4Cs3gdT",
        "outputId": "0768216c-3bc5-4cfe-bbae-951ac7b1cf1b"
      },
      "execution_count": 39,
      "outputs": [
        {
          "output_type": "execute_result",
          "data": {
            "text/plain": [
              "5050"
            ]
          },
          "metadata": {},
          "execution_count": 39
        }
      ]
    },
    {
      "cell_type": "code",
      "source": [
        "#Criar um programa que lista os números de 1 a 10\n",
        "##Precisamos de um contador!\n",
        "cont = 0\n",
        "\n",
        "while (cont < 10):\n",
        "  print(cont +1)\n",
        "  cont+=1"
      ],
      "metadata": {
        "colab": {
          "base_uri": "https://localhost:8080/"
        },
        "id": "d-PbFk6q8omg",
        "outputId": "72941211-d455-4d3b-a809-ae5995322170"
      },
      "execution_count": 40,
      "outputs": [
        {
          "output_type": "stream",
          "name": "stdout",
          "text": [
            "1\n",
            "2\n",
            "3\n",
            "4\n",
            "5\n",
            "6\n",
            "7\n",
            "8\n",
            "9\n",
            "10\n"
          ]
        }
      ]
    },
    {
      "cell_type": "code",
      "source": [
        "#Pede ao usuário para inserir um número inteiro maior que 1\n",
        "#O programa deve imprimir todos os números até o número digitado.\n",
        "cont = 0\n",
        "num = int(input('insira um número '))\n",
        "while (cont <= num):\n",
        "  print(cont)\n",
        "  cont+=1\n",
        "  "
      ],
      "metadata": {
        "colab": {
          "base_uri": "https://localhost:8080/"
        },
        "id": "cHNcFEP4-ut3",
        "outputId": "e1d42d48-9f1e-49bc-8d69-10ca5fe9ced7"
      },
      "execution_count": 45,
      "outputs": [
        {
          "output_type": "stream",
          "name": "stdout",
          "text": [
            "insira um número 21\n",
            "0\n",
            "1\n",
            "2\n",
            "3\n",
            "4\n",
            "5\n",
            "6\n",
            "7\n",
            "8\n",
            "9\n",
            "10\n",
            "11\n",
            "12\n",
            "13\n",
            "14\n",
            "15\n",
            "16\n",
            "17\n",
            "18\n",
            "19\n",
            "20\n",
            "21\n"
          ]
        }
      ]
    },
    {
      "cell_type": "code",
      "source": [
        "#Cria uma lista de compras, encerra caso digite fim.\n",
        "\n",
        "comprasLista = []\n",
        "\n",
        "item = input('Digite o item ')\n",
        "\n",
        "while (item != 'fim'):\n",
        "  comprasLista.append(item)\n",
        "  item = input('Digite o item ')\n",
        "\n",
        "comprasLista  "
      ],
      "metadata": {
        "colab": {
          "base_uri": "https://localhost:8080/"
        },
        "id": "E9sNe3BCCx1u",
        "outputId": "c732d387-1c1e-4165-e984-3e1ec98539db"
      },
      "execution_count": 49,
      "outputs": [
        {
          "name": "stdout",
          "output_type": "stream",
          "text": [
            "Digite o item macarrao\n",
            "Digite o item feijao\n",
            "Digite o item arroz\n",
            "Digite o item frango\n",
            "Digite o item fim\n"
          ]
        },
        {
          "output_type": "execute_result",
          "data": {
            "text/plain": [
              "['macarrao', 'feijao', 'arroz', 'frango']"
            ]
          },
          "metadata": {},
          "execution_count": 49
        }
      ]
    }
  ]
}