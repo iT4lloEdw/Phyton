{
  "nbformat": 4,
  "nbformat_minor": 0,
  "metadata": {
    "colab": {
      "provenance": [],
      "authorship_tag": "ABX9TyNc4nqD9bERH5UA0SSXlS1G",
      "include_colab_link": true
    },
    "kernelspec": {
      "name": "python3",
      "display_name": "Python 3"
    },
    "language_info": {
      "name": "python"
    }
  },
  "cells": [
    {
      "cell_type": "markdown",
      "metadata": {
        "id": "view-in-github",
        "colab_type": "text"
      },
      "source": [
        "<a href=\"https://colab.research.google.com/github/iT4lloEdw/Phyton/blob/main/ExemplosPython12_05.ipynb\" target=\"_parent\"><img src=\"https://colab.research.google.com/assets/colab-badge.svg\" alt=\"Open In Colab\"/></a>"
      ]
    },
    {
      "cell_type": "code",
      "execution_count": 10,
      "metadata": {
        "colab": {
          "base_uri": "https://localhost:8080/"
        },
        "id": "Z60zJZWSXmcb",
        "outputId": "9dd8cd81-b206-402c-b556-36bdbed73c38"
      },
      "outputs": [
        {
          "output_type": "stream",
          "name": "stdout",
          "text": [
            "o lucro foi de: 700\n"
          ]
        }
      ],
      "source": [
        "vendas = 1000\n",
        "custo = 300\n",
        "\n",
        "lucro = vendas - custo\n",
        "print(\"o lucro foi de:\", lucro)"
      ]
    },
    {
      "cell_type": "code",
      "source": [
        "vendas = 100 \n",
        "if vendas > 1000:\n",
        "  print(\"Ganhou o Bônus\")\n",
        "else:\n",
        "  print(\"Não ganhou o bônus\")  "
      ],
      "metadata": {
        "colab": {
          "base_uri": "https://localhost:8080/"
        },
        "id": "RjTGdeNsY1u7",
        "outputId": "0252ffa0-aeef-40c1-a253-fc11078b9d67"
      },
      "execution_count": 5,
      "outputs": [
        {
          "output_type": "stream",
          "name": "stdout",
          "text": [
            "Não ganhou o bônus\n"
          ]
        }
      ]
    },
    {
      "cell_type": "code",
      "source": [
        "listaprodutos = [\"iphone\", \"tablet\", \"notebook\",]\n",
        "for item in listaprodutos:\n",
        "  print(item)"
      ],
      "metadata": {
        "colab": {
          "base_uri": "https://localhost:8080/"
        },
        "id": "9R9iBPohbgqb",
        "outputId": "40731fd6-c7a7-4b11-9634-ca36a3324277"
      },
      "execution_count": 9,
      "outputs": [
        {
          "output_type": "stream",
          "name": "stdout",
          "text": [
            "iphone\n",
            "tablet\n",
            "notebook\n"
          ]
        }
      ]
    },
    {
      "cell_type": "code",
      "source": [
        "listaprodutos = [\"iphone\", \"tablet\", \"notebook\",]\n",
        "listaprecos = [1000, 1500, 2200]\n",
        "for item in listaprecos:\n",
        "  print(item)"
      ],
      "metadata": {
        "colab": {
          "base_uri": "https://localhost:8080/"
        },
        "id": "gEs_JspXfbod",
        "outputId": "77ccc4e1-6779-4227-94bf-6bdfbe1903bb"
      },
      "execution_count": 11,
      "outputs": [
        {
          "output_type": "stream",
          "name": "stdout",
          "text": [
            "1000\n",
            "1500\n",
            "2200\n"
          ]
        }
      ]
    },
    {
      "cell_type": "code",
      "source": [
        "listaprodutos = [\"iphone\", \"tablet\", \"notebook\",]\n",
        "\n",
        "for i in range(10):\n",
        "  print(\"Teste\")"
      ],
      "metadata": {
        "colab": {
          "base_uri": "https://localhost:8080/"
        },
        "id": "zgyugvWegbxV",
        "outputId": "ec9a0560-ffbc-4775-b553-26f73ea77a2b"
      },
      "execution_count": 15,
      "outputs": [
        {
          "output_type": "stream",
          "name": "stdout",
          "text": [
            "Teste\n",
            "Teste\n",
            "Teste\n",
            "Teste\n",
            "Teste\n",
            "Teste\n",
            "Teste\n",
            "Teste\n",
            "Teste\n",
            "Teste\n"
          ]
        }
      ]
    }
  ]
}