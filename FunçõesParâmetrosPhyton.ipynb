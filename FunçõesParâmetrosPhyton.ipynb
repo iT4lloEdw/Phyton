{
  "nbformat": 4,
  "nbformat_minor": 0,
  "metadata": {
    "colab": {
      "provenance": [],
      "authorship_tag": "ABX9TyMPhTnm2+S01PAlhzKaHqJe",
      "include_colab_link": true
    },
    "kernelspec": {
      "name": "python3",
      "display_name": "Python 3"
    },
    "language_info": {
      "name": "python"
    }
  },
  "cells": [
    {
      "cell_type": "markdown",
      "metadata": {
        "id": "view-in-github",
        "colab_type": "text"
      },
      "source": [
        "<a href=\"https://colab.research.google.com/github/iT4lloEdw/Phyton/blob/main/Fun%C3%A7%C3%B5esPar%C3%A2metrosPhyton.ipynb\" target=\"_parent\"><img src=\"https://colab.research.google.com/assets/colab-badge.svg\" alt=\"Open In Colab\"/></a>"
      ]
    },
    {
      "cell_type": "code",
      "execution_count": 2,
      "metadata": {
        "colab": {
          "base_uri": "https://localhost:8080/"
        },
        "id": "uj0T_wVW27eX",
        "outputId": "50f4a277-b1bc-434b-925e-32abde3a6145"
      },
      "outputs": [
        {
          "output_type": "stream",
          "name": "stdout",
          "text": [
            "Minha primeira função!\n"
          ]
        }
      ],
      "source": [
        "#Declaração da função\n",
        "def primeiraFuncao():\n",
        "  print ('Minha primeira função!')\n",
        "\n",
        "#Chamando a função\n",
        "primeiraFuncao()  "
      ]
    },
    {
      "cell_type": "code",
      "source": [
        "def pronomeTratan(pronome):\n",
        "  print(pronome, \" Itallo\")\n",
        "  "
      ],
      "metadata": {
        "id": "mQb6pffS4eL3"
      },
      "execution_count": 3,
      "outputs": []
    },
    {
      "cell_type": "code",
      "source": [
        "pronomeTratan ('Doutor')\n",
        "pronomeTratan ('Sr')\n",
        "pronomeTratan ('Seu')"
      ],
      "metadata": {
        "colab": {
          "base_uri": "https://localhost:8080/"
        },
        "id": "9ZrTH-494n00",
        "outputId": "4bcedc7e-9a8a-41db-d021-822dff66dcf9"
      },
      "execution_count": 8,
      "outputs": [
        {
          "output_type": "stream",
          "name": "stdout",
          "text": [
            "Doutor  Itallo\n",
            "Sr  Itallo\n",
            "Seu  Itallo\n"
          ]
        }
      ]
    },
    {
      "cell_type": "code",
      "source": [
        "#Uma função deve ser chamada com o número certinho de argumentos\n",
        "def boasVindas(nome, cargo):\n",
        " print('Olá, '+ cargo + ' '+ nome)\n"
      ],
      "metadata": {
        "id": "8qziDtWf50Bb"
      },
      "execution_count": 13,
      "outputs": []
    },
    {
      "cell_type": "code",
      "source": [
        "boasVindas('Amaralina', 'Engenheira')\n",
        "boasVindas('Jorge', 'Carimbador')\n",
        "boasVindas('Maria', 'Sargento')\n",
        "#Experimente passar apenas um dos parâmetros\n",
        "     "
      ],
      "metadata": {
        "colab": {
          "base_uri": "https://localhost:8080/"
        },
        "id": "MoR1AjTW6cNo",
        "outputId": "f97876eb-bb50-4332-dd05-28ee0815f12d"
      },
      "execution_count": 18,
      "outputs": [
        {
          "output_type": "stream",
          "name": "stdout",
          "text": [
            "Olá, Engenheira Amaralina\n",
            "Olá, Carimbador Jorge\n",
            "Olá, Sargento Maria\n"
          ]
        }
      ]
    },
    {
      "cell_type": "code",
      "source": [
        "def somaNotas(*notas):\n",
        "  soma = 0\n",
        "  for nota in notas:\n",
        "    soma += nota\n",
        "  print(soma)  "
      ],
      "metadata": {
        "id": "B2PIhKFC6XnI"
      },
      "execution_count": 19,
      "outputs": []
    },
    {
      "cell_type": "code",
      "source": [
        "somaNotas(8, 6, 7, 5, 3, 10)"
      ],
      "metadata": {
        "colab": {
          "base_uri": "https://localhost:8080/"
        },
        "id": "cl7v-AfO9sWz",
        "outputId": "d5b0cd72-b2f9-485c-f3f6-cd5e6fdfaa9f"
      },
      "execution_count": 20,
      "outputs": [
        {
          "output_type": "stream",
          "name": "stdout",
          "text": [
            "39\n"
          ]
        }
      ]
    },
    {
      "cell_type": "code",
      "source": [
        "def media(*notas):\n",
        "  soma = 0\n",
        "  for nota in notas:\n",
        "    soma += nota\n",
        "  print(soma / len(notas))  \n",
        "  "
      ],
      "metadata": {
        "id": "Mwo3aCEn_fki"
      },
      "execution_count": 21,
      "outputs": []
    },
    {
      "cell_type": "code",
      "source": [
        "media(8, 6, 7, 5, 3, 10)"
      ],
      "metadata": {
        "colab": {
          "base_uri": "https://localhost:8080/"
        },
        "id": "26CuYi6G_pgK",
        "outputId": "a123dcc3-d7dd-4ec9-fdb8-9aa675bb1462"
      },
      "execution_count": 22,
      "outputs": [
        {
          "output_type": "stream",
          "name": "stdout",
          "text": [
            "6.5\n"
          ]
        }
      ]
    },
    {
      "cell_type": "code",
      "source": [
        "#Valor de parâmetro padrão\n",
        "def nacionalidade(country = 'Cuba'):\n",
        "  print('Eu nasci em: '+ country)\n",
        "  "
      ],
      "metadata": {
        "id": "Tn_1uA2GAQF9"
      },
      "execution_count": 23,
      "outputs": []
    },
    {
      "cell_type": "code",
      "source": [
        "nacionalidade('Brasil')\n",
        "nacionalidade('França')\n",
        "nacionalidade('Vietnã')\n",
        "nacionalidade()"
      ],
      "metadata": {
        "colab": {
          "base_uri": "https://localhost:8080/"
        },
        "id": "exS2kI8FAnLP",
        "outputId": "3f57548a-b3c5-41bf-f20b-168a0a325e00"
      },
      "execution_count": 24,
      "outputs": [
        {
          "output_type": "stream",
          "name": "stdout",
          "text": [
            "Eu nasci em: Brasil\n",
            "Eu nasci em: França\n",
            "Eu nasci em: Vietnã\n",
            "Eu nasci em: Cuba\n"
          ]
        }
      ]
    },
    {
      "cell_type": "code",
      "source": [],
      "metadata": {
        "id": "s_LaZxR9B1GX"
      },
      "execution_count": null,
      "outputs": []
    }
  ]
}