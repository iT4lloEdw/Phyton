{
  "nbformat": 4,
  "nbformat_minor": 0,
  "metadata": {
    "colab": {
      "provenance": [],
      "authorship_tag": "ABX9TyNJzHrdo23gpdK/Y3z/8CLe",
      "include_colab_link": true
    },
    "kernelspec": {
      "name": "python3",
      "display_name": "Python 3"
    },
    "language_info": {
      "name": "python"
    }
  },
  "cells": [
    {
      "cell_type": "markdown",
      "metadata": {
        "id": "view-in-github",
        "colab_type": "text"
      },
      "source": [
        "<a href=\"https://colab.research.google.com/github/iT4lloEdw/Phyton/blob/main/JogoAdivinhaPhyton.ipynb\" target=\"_parent\"><img src=\"https://colab.research.google.com/assets/colab-badge.svg\" alt=\"Open In Colab\"/></a>"
      ]
    },
    {
      "cell_type": "code",
      "execution_count": 10,
      "metadata": {
        "colab": {
          "base_uri": "https://localhost:8080/"
        },
        "id": "H-6x6Dz1uKuN",
        "outputId": "72f12cd1-8d73-4d8d-e3bb-9170c923aca6"
      },
      "outputs": [
        {
          "output_type": "stream",
          "name": "stdout",
          "text": [
            "Chute um número entre 0 e 100: 72\n",
            "Chute um número entre 72 e 100: 86\n",
            "Chute um número entre 72 e 86: 81\n",
            "ACERTOU! 3 tentativas)!\n"
          ]
        }
      ],
      "source": [
        "import random\n",
        "\n",
        "num = random.randrange(101)\n",
        "minimo = 0\n",
        "maximo = 100\n",
        "pitaco = int(input(f'Chute um número entre {minimo} e {maximo}: '))\n",
        "cont = 1\n",
        "\n",
        "while(num != pitaco):\n",
        "  if(pitaco > num):\n",
        "    maximo = pitaco\n",
        "  else:\n",
        "    minimo = pitaco\n",
        "  pitaco = int(input(f'Chute um número entre {minimo} e {maximo}: '))\n",
        "  cont+=1\n",
        "\n",
        "print(f'ACERTOU! {cont} tentativas)!') "
      ]
    }
  ]
}