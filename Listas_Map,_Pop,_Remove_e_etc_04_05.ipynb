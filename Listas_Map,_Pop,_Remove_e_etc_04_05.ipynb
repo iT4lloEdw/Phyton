{
  "nbformat": 4,
  "nbformat_minor": 0,
  "metadata": {
    "colab": {
      "provenance": [],
      "authorship_tag": "ABX9TyNtiVTQwUdPUq8bcq4PK426",
      "include_colab_link": true
    },
    "kernelspec": {
      "name": "python3",
      "display_name": "Python 3"
    },
    "language_info": {
      "name": "python"
    }
  },
  "cells": [
    {
      "cell_type": "markdown",
      "metadata": {
        "id": "view-in-github",
        "colab_type": "text"
      },
      "source": [
        "<a href=\"https://colab.research.google.com/github/iT4lloEdw/Phyton/blob/main/Listas_Map%2C_Pop%2C_Remove_e_etc_04_05.ipynb\" target=\"_parent\"><img src=\"https://colab.research.google.com/assets/colab-badge.svg\" alt=\"Open In Colab\"/></a>"
      ]
    },
    {
      "cell_type": "code",
      "execution_count": null,
      "metadata": {
        "colab": {
          "base_uri": "https://localhost:8080/"
        },
        "id": "eZnEN9357dro",
        "outputId": "3cff1916-e7d1-4e6f-b720-80665e83362b"
      },
      "outputs": [
        {
          "output_type": "execute_result",
          "data": {
            "text/plain": [
              "['ze', 'tiao', 'regi', 'naldo']"
            ]
          },
          "metadata": {},
          "execution_count": 8
        }
      ],
      "source": [
        "nomes = ['ze','tiao']\n",
        "nomes.append('regi')\n",
        "nomes\n",
        "\n",
        "#Vários valores\n",
        "outrosNomes = ['ana', 'naldo']\n",
        "\n",
        "nomes.extend(outrosNomes)\n",
        "\n",
        "nomes\n",
        "\n",
        "nomes.remove(\"ana\")\n",
        "\n",
        "nomes"
      ]
    },
    {
      "cell_type": "code",
      "source": [
        "#Crie uma lista de números e\n",
        "numeros = [2, 4, 6, 8, 5, 6]\n",
        "#remova o primeiro elemento da lista\n",
        "#remova o ultimo elemento da lista\n",
        "\n",
        "numeros.remove(2)\n",
        "numeros\n",
        "\n",
        "numeros.pop()\n",
        "numeros"
      ],
      "metadata": {
        "colab": {
          "base_uri": "https://localhost:8080/"
        },
        "id": "bfHBGydl9wTp",
        "outputId": "b2b49b93-629b-4702-fbe7-f41532fd592a"
      },
      "execution_count": null,
      "outputs": [
        {
          "output_type": "execute_result",
          "data": {
            "text/plain": [
              "[4, 6, 8, 5]"
            ]
          },
          "metadata": {},
          "execution_count": 10
        }
      ]
    },
    {
      "cell_type": "code",
      "source": [
        "#1- crie uma lista de notas, e exiba-a da menor para o maior\n",
        "notas = [2,10, 9, 4, 7, 3, 8]\n",
        "nomes = ['Ademar', 'Maristênio', 'Asdrúbal', 'Leo']\n",
        "notas.sort()\n",
        "nomes.sort(reverse=True)\n",
        "\n",
        "#2- crie uma lista de nomes de frutas e ordene-a em ordem decrescente\n",
        "\n",
        "nomes"
      ],
      "metadata": {
        "colab": {
          "base_uri": "https://localhost:8080/"
        },
        "id": "PtyG1CyH_pTB",
        "outputId": "669cd623-4b7b-474a-9305-0564010aa615"
      },
      "execution_count": null,
      "outputs": [
        {
          "output_type": "execute_result",
          "data": {
            "text/plain": [
              "['Maristênio', 'Leo', 'Asdrúbal', 'Ademar']"
            ]
          },
          "metadata": {},
          "execution_count": 20
        }
      ]
    },
    {
      "cell_type": "code",
      "source": [
        "#Exemplo função map - cria uma nova lista com o dobro\n",
        "numeros = [2, 4, 6, 3]\n",
        "nova_lista = list(map(lambda x : x*2, numeros))\n",
        "nova_lista"
      ],
      "metadata": {
        "colab": {
          "base_uri": "https://localhost:8080/"
        },
        "id": "MmLqudj7CRD5",
        "outputId": "12bafabf-d3fe-41ac-e3ab-f0e54b435495"
      },
      "execution_count": null,
      "outputs": [
        {
          "output_type": "execute_result",
          "data": {
            "text/plain": [
              "[4, 8, 12, 6]"
            ]
          },
          "metadata": {},
          "execution_count": 28
        }
      ]
    },
    {
      "cell_type": "code",
      "source": [
        "#pegar cada um dos número e dividir por 3\n",
        "numeros = [2, 4, 6, 3]\n",
        "nova_lista = list(map(lambda x : x/3, numeros))\n",
        "nova_lista\n"
      ],
      "metadata": {
        "colab": {
          "base_uri": "https://localhost:8080/"
        },
        "id": "aByofD7IDHfY",
        "outputId": "5400c887-b12a-49dc-9c5c-abc9e14ae85c"
      },
      "execution_count": null,
      "outputs": [
        {
          "output_type": "execute_result",
          "data": {
            "text/plain": [
              "[0.6666666666666666, 1.3333333333333333, 2.0, 1.0]"
            ]
          },
          "metadata": {},
          "execution_count": 33
        }
      ]
    },
    {
      "cell_type": "code",
      "source": [
        "#pega cada numero e soma 2\n",
        "numeros = [4, 6, 8, 10]\n",
        "nums = list(map(lambda x : x+2, numeros))\n",
        "nums"
      ],
      "metadata": {
        "colab": {
          "base_uri": "https://localhost:8080/"
        },
        "id": "6IHNYLeAEAkP",
        "outputId": "37b1dfcf-f89b-43d4-e992-4ce603c49b38"
      },
      "execution_count": null,
      "outputs": [
        {
          "output_type": "execute_result",
          "data": {
            "text/plain": [
              "[6, 8, 10, 12]"
            ]
          },
          "metadata": {},
          "execution_count": 34
        }
      ]
    },
    {
      "cell_type": "code",
      "source": [
        "#Exemplo função filter - a partir de uma lista de nomes,\n",
        "\n",
        "nomes = ['josé', 'joão', 'sebastião', 'angélica', 'barbára']\n",
        "\n",
        "new_list = list(filter(lambda x : len(x)>6, nomes))\n",
        "new_list\n",
        "\n"
      ],
      "metadata": {
        "colab": {
          "base_uri": "https://localhost:8080/"
        },
        "id": "liBWABf4EvQt",
        "outputId": "9a492dfc-7480-4c3d-a29c-68187a93306b"
      },
      "execution_count": null,
      "outputs": [
        {
          "output_type": "execute_result",
          "data": {
            "text/plain": [
              "['sebastião', 'angélica', 'barbára']"
            ]
          },
          "metadata": {},
          "execution_count": 39
        }
      ]
    },
    {
      "cell_type": "code",
      "source": [
        "#criem uma lista de notas, imprime as maiores que 6\n",
        "\n",
        "notas = [7, 4, 8, 2, 9]\n",
        "\n",
        "notasNum = list(filter(lambda x : x>6, notas))\n",
        "notasNum"
      ],
      "metadata": {
        "colab": {
          "base_uri": "https://localhost:8080/"
        },
        "id": "Goxg36xfF9Jv",
        "outputId": "a2597f30-1778-4b06-d909-5eb66df3d893"
      },
      "execution_count": null,
      "outputs": [
        {
          "output_type": "execute_result",
          "data": {
            "text/plain": [
              "[7, 8, 9]"
            ]
          },
          "metadata": {},
          "execution_count": 49
        }
      ]
    },
    {
      "cell_type": "code",
      "source": [
        "#Dada uma lista de números, retorne uma lista contendo o quadrado de cada número.\n",
        "\n",
        "numeros = [2, 4, 6, 8]\n",
        "\n",
        "nums = list(map(lambda n : n*2, numeros))\n",
        "nums"
      ],
      "metadata": {
        "colab": {
          "base_uri": "https://localhost:8080/"
        },
        "id": "ONktw6RqI3NV",
        "outputId": "2ac2bbff-b1de-42c5-d795-6eb702435485"
      },
      "execution_count": null,
      "outputs": [
        {
          "output_type": "execute_result",
          "data": {
            "text/plain": [
              "[4, 8, 12, 16]"
            ]
          },
          "metadata": {},
          "execution_count": 61
        }
      ]
    },
    {
      "cell_type": "code",
      "source": [
        "#Dada uma lista de nomes, retorne uma lista contendo o tamanho de cada nome.\n",
        "\n",
        "nomes = ['Reginaldo', 'Manoel', 'Zeca']\n",
        "\n",
        "nomesList = list(map(lambda n : len(n), nomes))\n",
        "nomesList"
      ],
      "metadata": {
        "colab": {
          "base_uri": "https://localhost:8080/"
        },
        "id": "XbREr4XsJ5YF",
        "outputId": "3dd779cc-448e-47a7-fe43-730d6fd6a0f8"
      },
      "execution_count": null,
      "outputs": [
        {
          "output_type": "execute_result",
          "data": {
            "text/plain": [
              "[9, 6, 4]"
            ]
          },
          "metadata": {},
          "execution_count": 63
        }
      ]
    },
    {
      "cell_type": "code",
      "source": [
        "#Dada uma lista de números, retorne uma lista contendo apenas os números pares.\n",
        "\n",
        "nume = [2,5,6,7]\n",
        "\n",
        "numeros = list(filter(lambda n : n%2==0, nume))\n",
        "numeros"
      ],
      "metadata": {
        "id": "idLG0RzLKqqL",
        "colab": {
          "base_uri": "https://localhost:8080/"
        },
        "outputId": "ca5f2c5d-c9be-444d-d974-bb8559c82a0f"
      },
      "execution_count": 65,
      "outputs": [
        {
          "output_type": "execute_result",
          "data": {
            "text/plain": [
              "[2, 6]"
            ]
          },
          "metadata": {},
          "execution_count": 65
        }
      ]
    },
    {
      "cell_type": "code",
      "source": [],
      "metadata": {
        "id": "xtCzQ2a8PCEi"
      },
      "execution_count": null,
      "outputs": []
    },
    {
      "cell_type": "code",
      "source": [
        "#Dada uma lista de nomes, retorne uma lista contendo apenas os nomes que começam com a letra \"A\".\n",
        "\n",
        "nomes = ['Aranha', 'Gari', 'Aderbal', 'Bola']\n",
        "\n",
        "noms = list(filter(lambda n : n[0] == 'A', nomes))\n",
        "noms"
      ],
      "metadata": {
        "colab": {
          "base_uri": "https://localhost:8080/"
        },
        "id": "RI4k4bQULMzY",
        "outputId": "a59b7dbd-25e8-4f93-eeef-ceae6011c890"
      },
      "execution_count": 67,
      "outputs": [
        {
          "output_type": "execute_result",
          "data": {
            "text/plain": [
              "['Aranha', 'Aderbal']"
            ]
          },
          "metadata": {},
          "execution_count": 67
        }
      ]
    },
    {
      "cell_type": "code",
      "source": [
        "#Recebe uma lista com notas de alunos, retorna apenas os aprovados (nota maior ou igual a 7)\n",
        "\n",
        "notas = [5, 7, 8, 0, 9]\n",
        "\n",
        "notAlun = list(filter(lambda n : n>7, notas))\n",
        "notAlun"
      ],
      "metadata": {
        "colab": {
          "base_uri": "https://localhost:8080/"
        },
        "id": "K3NWOZ3hMNXH",
        "outputId": "1741760d-0648-4b11-f29a-0028c71ffb5a"
      },
      "execution_count": 68,
      "outputs": [
        {
          "output_type": "execute_result",
          "data": {
            "text/plain": [
              "[8, 9]"
            ]
          },
          "metadata": {},
          "execution_count": 68
        }
      ]
    }
  ]
}