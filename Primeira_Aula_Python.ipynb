{
  "nbformat": 4,
  "nbformat_minor": 0,
  "metadata": {
    "colab": {
      "provenance": [],
      "authorship_tag": "ABX9TyPxsMaxNXEwivbPU5jFcGC5",
      "include_colab_link": true
    },
    "kernelspec": {
      "name": "python3",
      "display_name": "Python 3"
    },
    "language_info": {
      "name": "python"
    }
  },
  "cells": [
    {
      "cell_type": "markdown",
      "metadata": {
        "id": "view-in-github",
        "colab_type": "text"
      },
      "source": [
        "<a href=\"https://colab.research.google.com/github/iT4lloEdw/Programa-o-FPB/blob/main/Primeira_Aula_Python.ipynb\" target=\"_parent\"><img src=\"https://colab.research.google.com/assets/colab-badge.svg\" alt=\"Open In Colab\"/></a>"
      ]
    },
    {
      "cell_type": "markdown",
      "source": [
        "Aula 1"
      ],
      "metadata": {
        "id": "kolnc_cjvvOh"
      }
    },
    {
      "cell_type": "code",
      "execution_count": 6,
      "metadata": {
        "id": "aMteouIItwSw",
        "colab": {
          "base_uri": "https://localhost:8080/"
        },
        "outputId": "d7ac225d-e564-44c6-a274-c9cc38b95bc1"
      },
      "outputs": [
        {
          "output_type": "stream",
          "name": "stdout",
          "text": [
            "teste\n"
          ]
        }
      ],
      "source": [
        "print(\"teste\")"
      ]
    },
    {
      "cell_type": "code",
      "source": [
        "#Variáveis\n",
        "nome = \"Teste\"\n",
        "print(nome)"
      ],
      "metadata": {
        "colab": {
          "base_uri": "https://localhost:8080/"
        },
        "id": "ujvqz8ylwSiZ",
        "outputId": "00186377-e2cf-485b-d146-e95180ea1052"
      },
      "execution_count": 7,
      "outputs": [
        {
          "output_type": "stream",
          "name": "stdout",
          "text": [
            "Teste\n"
          ]
        }
      ]
    },
    {
      "cell_type": "code",
      "source": [
        "#Operações com variáveis\n",
        "a = 20\n",
        "b = 35\n",
        "soma = a + b\n",
        "subtracao = a - b\n",
        "divisao = a / b\n",
        "multiplicacao = a * b"
      ],
      "metadata": {
        "id": "y9Iq7edCwtc9"
      },
      "execution_count": 4,
      "outputs": []
    },
    {
      "cell_type": "code",
      "source": [
        "print(soma)\n",
        "print(subtracao)\n",
        "print(divisao)\n",
        "print(multiplicacao)\n"
      ],
      "metadata": {
        "colab": {
          "base_uri": "https://localhost:8080/"
        },
        "id": "Cn-lL_2pxeax",
        "outputId": "2b5bd6d1-05b6-444e-9e42-3f1d3c0af305"
      },
      "execution_count": 5,
      "outputs": [
        {
          "output_type": "stream",
          "name": "stdout",
          "text": [
            "55\n",
            "-15\n",
            "0.5714285714285714\n",
            "700\n"
          ]
        }
      ]
    },
    {
      "cell_type": "markdown",
      "source": [
        "1. Pega o número de uma variável, e devolve o dobro\n",
        "2. Lê 3 notas e devolve a média aritmética\n",
        "3. Pede o ano de nascimento da pessoa e calcula a idade atual dela."
      ],
      "metadata": {
        "id": "m-HLaAc4yWyS"
      }
    },
    {
      "cell_type": "code",
      "source": [
        "#Dobro\n",
        "num = 42\n",
        "print(num * 2)"
      ],
      "metadata": {
        "colab": {
          "base_uri": "https://localhost:8080/"
        },
        "id": "xg08QOFfyH80",
        "outputId": "3477e44f-9e3f-4c1e-e205-0ad3bab64bac"
      },
      "execution_count": 8,
      "outputs": [
        {
          "output_type": "stream",
          "name": "stdout",
          "text": [
            "84\n"
          ]
        }
      ]
    },
    {
      "cell_type": "code",
      "source": [
        "#Média\n",
        "n1 = 8\n",
        "n2 = 6.5\n",
        "n3 = 7\n",
        "media = (n1+n2+n3)/3\n",
        "print(media)"
      ],
      "metadata": {
        "colab": {
          "base_uri": "https://localhost:8080/"
        },
        "id": "_Dh620zR085R",
        "outputId": "f3cd4d62-349e-4164-c6ba-5fa73955172b"
      },
      "execution_count": 9,
      "outputs": [
        {
          "output_type": "stream",
          "name": "stdout",
          "text": [
            "7.166666666666667\n"
          ]
        }
      ]
    },
    {
      "cell_type": "code",
      "source": [
        "#Calcule idade\n",
        "anoNascim = 2004\n",
        "print(2023 - 2004)"
      ],
      "metadata": {
        "colab": {
          "base_uri": "https://localhost:8080/"
        },
        "id": "c1bbHY5P15pm",
        "outputId": "4b91226d-453c-4b70-d9f1-8e615c2eaf75"
      },
      "execution_count": 10,
      "outputs": [
        {
          "output_type": "stream",
          "name": "stdout",
          "text": [
            "19\n"
          ]
        }
      ]
    },
    {
      "cell_type": "code",
      "source": [
        "#Trabalhando com INPUTS\n",
        "nome = input('Digite seu nome')\n",
        "print('Olá '+nome)"
      ],
      "metadata": {
        "colab": {
          "base_uri": "https://localhost:8080/"
        },
        "id": "L9BuuRP92VUP",
        "outputId": "19c80983-6354-4989-8ea3-e81a359bd46a"
      },
      "execution_count": 11,
      "outputs": [
        {
          "output_type": "stream",
          "name": "stdout",
          "text": [
            "Digite seu nomeItallo\n",
            "Olá Itallo\n"
          ]
        }
      ]
    },
    {
      "cell_type": "markdown",
      "source": [
        "*italicized text*"
      ],
      "metadata": {
        "id": "juxHOB67vr7s"
      }
    },
    {
      "cell_type": "code",
      "source": [
        "#Pede um número e multiplica por 3\n",
        "#PARSE\n",
        "num = int(input(\"Digite\"))\n",
        "print(num*3)"
      ],
      "metadata": {
        "colab": {
          "base_uri": "https://localhost:8080/"
        },
        "id": "Dt36cB6C4eQW",
        "outputId": "193db31e-abbe-43a6-c70e-e2c9de6f5635"
      },
      "execution_count": 18,
      "outputs": [
        {
          "output_type": "stream",
          "name": "stdout",
          "text": [
            "Digite53\n",
            "159\n"
          ]
        }
      ]
    }
  ]
}