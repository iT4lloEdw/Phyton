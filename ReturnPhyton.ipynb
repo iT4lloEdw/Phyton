{
  "nbformat": 4,
  "nbformat_minor": 0,
  "metadata": {
    "colab": {
      "provenance": [],
      "authorship_tag": "ABX9TyPaSluX/YR9cY7I5ALdBqSs",
      "include_colab_link": true
    },
    "kernelspec": {
      "name": "python3",
      "display_name": "Python 3"
    },
    "language_info": {
      "name": "python"
    }
  },
  "cells": [
    {
      "cell_type": "markdown",
      "metadata": {
        "id": "view-in-github",
        "colab_type": "text"
      },
      "source": [
        "<a href=\"https://colab.research.google.com/github/iT4lloEdw/Phyton/blob/main/ReturnPhyton.ipynb\" target=\"_parent\"><img src=\"https://colab.research.google.com/assets/colab-badge.svg\" alt=\"Open In Colab\"/></a>"
      ]
    },
    {
      "cell_type": "code",
      "execution_count": 2,
      "metadata": {
        "id": "6-G55yJtCjKX"
      },
      "outputs": [],
      "source": [
        "def imc(peso, altura):\n",
        "  return peso/altura**2"
      ]
    },
    {
      "cell_type": "code",
      "source": [
        "def situacaoPeso(imc):\n",
        "  if(imc < 18.5):\n",
        "    print('Abaixo do peso normal')\n",
        "  elif(imc < 24.9):\n",
        "    print('Peso normal')\n",
        "  else:\n",
        "    print('Obesidade')    "
      ],
      "metadata": {
        "id": "zsCoNJ7TDBdx"
      },
      "execution_count": 3,
      "outputs": []
    },
    {
      "cell_type": "code",
      "source": [
        "situacaoPeso(imc(64, 1.73))"
      ],
      "metadata": {
        "colab": {
          "base_uri": "https://localhost:8080/"
        },
        "id": "-APusyuhD5im",
        "outputId": "07cc8d98-932a-43b9-cea0-872bd553aaad"
      },
      "execution_count": 4,
      "outputs": [
        {
          "output_type": "stream",
          "name": "stdout",
          "text": [
            "Peso normal\n"
          ]
        }
      ]
    },
    {
      "cell_type": "code",
      "source": [
        "#Soma\n",
        "def soma(a, b):\n",
        "  return a + b\n",
        "\n",
        "#Subtração\n",
        "def subtracao(a, b):\n",
        "  return a - b\n",
        "\n",
        "#Multiplicação\n",
        "def multiplicacao(a, b):\n",
        "  return a * b\n",
        "\n",
        "#Divisão\n",
        "def divisao(a, b):\n",
        "  return a / b  \n",
        "  "
      ],
      "metadata": {
        "id": "2Tisu7xUGFBp"
      },
      "execution_count": 6,
      "outputs": []
    },
    {
      "cell_type": "code",
      "source": [],
      "metadata": {
        "id": "1wFQZefpHZIe"
      },
      "execution_count": null,
      "outputs": []
    }
  ]
}